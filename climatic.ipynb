{
  "nbformat": 4,
  "nbformat_minor": 0,
  "metadata": {
    "colab": {
      "provenance": [],
      "authorship_tag": "ABX9TyN2nIvgQAlGDVxCYZf6KJ2y",
      "include_colab_link": true
    },
    "kernelspec": {
      "name": "python3",
      "display_name": "Python 3"
    },
    "language_info": {
      "name": "python"
    }
  },
  "cells": [
    {
      "cell_type": "markdown",
      "metadata": {
        "id": "view-in-github",
        "colab_type": "text"
      },
      "source": [
        "<a href=\"https://colab.research.google.com/github/bhavanitha-jpg/Internship/blob/main/climatic.ipynb\" target=\"_parent\"><img src=\"https://colab.research.google.com/assets/colab-badge.svg\" alt=\"Open In Colab\"/></a>"
      ]
    },
    {
      "cell_type": "code",
      "execution_count": null,
      "metadata": {
        "id": "aI4vOYZcV9mZ",
        "outputId": "aa195386-7361-4dac-a5e3-723851ff69ad",
        "colab": {
          "base_uri": "https://localhost:8080/"
        }
      },
      "outputs": [
        {
          "output_type": "stream",
          "name": "stdout",
          "text": [
            "Entropy of PlayTennis: 0.9403\n",
            "Information Gain for Outlook: 0.2467\n",
            "Information Gain for Temperature: 0.0292\n",
            "Information Gain for Humidity: 0.1518\n",
            "Information Gain for Wind: 0.0481\n",
            "{'Outlook': {'Overcast': 'Yes',\n",
            "             'Rain': {'Wind': {'Strong': 'No', 'Weak': 'Yes'}},\n",
            "             'Sunny': {'Humidity': {'High': 'No', 'Normal': 'Yes'}}}}\n"
          ]
        }
      ],
      "source": [
        "import math\n",
        "import pandas as pd\n",
        "from pprint import pprint\n",
        "\n",
        "# Sample dataset (Play Tennis)\n",
        "data = {\n",
        "    'Outlook': ['Sunny', 'Sunny', 'Overcast', 'Rain', 'Rain', 'Rain', 'Overcast', 'Sunny',\n",
        "                'Sunny', 'Rain', 'Sunny', 'Overcast', 'Overcast', 'Rain'],\n",
        "    'Temperature': ['Hot', 'Hot', 'Hot', 'Mild', 'Cool', 'Cool', 'Cool', 'Mild',\n",
        "                    'Cool', 'Mild', 'Mild', 'Mild', 'Hot', 'Mild'],\n",
        "    'Humidity': ['High', 'High', 'High', 'High', 'Normal', 'Normal', 'Normal', 'High',\n",
        "                 'Normal', 'Normal', 'Normal', 'High', 'Normal', 'High'],\n",
        "    'Wind': ['Weak', 'Strong', 'Weak', 'Weak', 'Weak', 'Strong', 'Strong', 'Weak',\n",
        "             'Weak', 'Weak', 'Strong', 'Strong', 'Weak', 'Strong'],\n",
        "    'PlayTennis': ['No', 'No', 'Yes', 'Yes', 'Yes', 'No', 'Yes', 'No',\n",
        "                   'Yes', 'Yes', 'Yes', 'Yes', 'Yes', 'No']\n",
        "}\n",
        "\n",
        "df = pd.DataFrame(data)\n",
        "\n",
        "# Entropy function\n",
        "def entropy(labels):\n",
        "    total = len(labels)\n",
        "    unique_labels = set(labels)\n",
        "    entropy_value = 0\n",
        "    for label in unique_labels:\n",
        "        count = sum(1 for l in labels if l == label)\n",
        "        prob = count / total\n",
        "        entropy_value -= prob * math.log2(prob)\n",
        "    return entropy_value\n",
        "\n",
        "# Information gain function\n",
        "def info_gain(df, feature, target='PlayTennis'):\n",
        "    total_entropy = entropy(df[target])\n",
        "    values = df[feature].unique()\n",
        "    weighted_entropy = 0\n",
        "    for val in values:\n",
        "        subset = df[df[feature] == val]\n",
        "        weight = len(subset) / len(df)\n",
        "        weighted_entropy += weight * entropy(subset[target])\n",
        "    return total_entropy - weighted_entropy\n",
        "\n",
        "# Print entropy\n",
        "print('Entropy of PlayTennis:', round(entropy(df['PlayTennis']), 4))  # ← Fixed missing parenthesis\n",
        "\n",
        "# Evaluate info gain for each feature\n",
        "features = ['Outlook', 'Temperature', 'Humidity', 'Wind']\n",
        "for feature in features:\n",
        "    gain = info_gain(df, feature)\n",
        "    print(f\"Information Gain for {feature}: {round(gain, 4)}\")\n",
        "\n",
        "# Decision tree builder\n",
        "def build_tree(df, features, target='PlayTennis', depth=0)):\n",
        "    # If all target values are the same, return that value\n",
        "    if len(set(df[target])) == 1:\n",
        "        return list(df[target])[0]\n",
        "\n",
        "    # If no features left, return majority class\n",
        "    if len(features) == 0:\n",
        "        return df[target].mode()[0]\n",
        "\n",
        "    # Choose best feature\n",
        "    gains = {feature: info_gain(df, feature, target) for feature in features}\n",
        "    best_feature = max(gains, key=gains.get)\n",
        "\n",
        "    tree = {best_feature: {}}\n",
        "\n",
        "    for value in df[best_feature].unique():\n",
        "        sub_df = df[df[best_feature] == value]\n",
        "        remaining_features = [f for f in features if f != best_feature]\n",
        "        subtree = build_tree(sub_df, remaining_features, target, depth + 1)\n",
        "        tree[best_feature][value] = subtree\n",
        "    return tree\n",
        "\n",
        "# Build and print the decision tree\n",
        "decision_tree = build_tree(df, features)\n",
        "pprint(decision_tree)\n"
      ]
    }
  ]
}